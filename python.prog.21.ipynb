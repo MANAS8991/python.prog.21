{
 "cells": [
  {
   "cell_type": "markdown",
   "id": "af464ff1",
   "metadata": {},
   "source": [
    "# Q1 Write a function that takes a list and a number as arguments. Add the number to the end of the list, then remove the first element of the list. The function should then return the updated list.\n",
    "# Examples\n",
    "# next_in_line([5, 6, 7, 8, 9], 1) ➞ [6, 7, 8, 9, 1]\n",
    "# next_in_line([7, 6, 3, 23, 17], 10) ➞ [6, 3, 23, 17, 10]\n",
    "# next_in_line([1, 10, 20, 42 ], 6) ➞ [10, 20, 42, 6]\n",
    "# next_in_line([], 6) ➞ &quot;No list has been selected&quot;"
   ]
  },
  {
   "cell_type": "code",
   "execution_count": null,
   "id": "aac15d85",
   "metadata": {},
   "outputs": [],
   "source": [
    "ou can create a function called next_in_line that takes a list and a number as arguments. The function adds the number to the end of the list using the append() method and removes the first element of the list using the pop(0) method. If the input list is empty, the function returns the string \"No list has been selected\". Otherwise, it returns the updated list.\n",
    "\n",
    "Here's the implementation:\n",
    "def next_in_line(lst, number):\n",
    "    if len(lst) == 0:\n",
    "        return \"No list has been selected\"\n",
    "    lst.append(number)\n",
    "    lst.pop(0)\n",
    "    return lst\n",
    "Let's test the function with the provided examples:\n",
    "print(next_in_line([5, 6, 7, 8, 9], 1))\n",
    "# Output: [6, 7, 8, 9, 1]\n",
    "\n",
    "print(next_in_line([7, 6, 3, 23, 17], 10))\n",
    "# Output: [6, 3, 23, 17, 10]\n",
    "\n",
    "print(next_in_line([1, 10, 20, 42], 6))\n",
    "# Output: [10, 20, 42, 6]\n",
    "\n",
    "print(next_in_line([], 6))\n",
    "# Output: \"No list has been selected\"\n",
    "\n"
   ]
  },
  {
   "cell_type": "markdown",
   "id": "201404d0",
   "metadata": {},
   "source": [
    "# Q2 Create the function that takes a list of dictionaries and returns the sum of people&#39;s budgets.\n",
    "# Examples\n",
    "# get_budgets([\n",
    "# { &quot;name&quot;: &quot;John&quot;, &quot;age&quot;: 21, &quot;budget&quot;: 23000 },\n",
    "# { &quot;name&quot;: &quot;Steve&quot;, &quot;age&quot;: 32, &quot;budget&quot;: 40000 },\n",
    "# { &quot;name&quot;: &quot;Martin&quot;, &quot;age&quot;: 16, &quot;budget&quot;: 2700 }\n",
    "# ]) ➞ 65700\n",
    "# get_budgets([\n",
    "# { &quot;name&quot;: &quot;John&quot;, &quot;age&quot;: 21, &quot;budget&quot;: 29000 },\n",
    "# { &quot;name&quot;: &quot;Steve&quot;, &quot;age&quot;: 32, &quot;budget&quot;: 32000 },\n",
    "# { &quot;name&quot;: &quot;Martin&quot;, &quot;age&quot;: 16, &quot;budget&quot;: 1600 }\n",
    "# ]) ➞ 62600"
   ]
  },
  {
   "cell_type": "code",
   "execution_count": null,
   "id": "3d361697",
   "metadata": {},
   "outputs": [],
   "source": [
    "You can create a function called get_budgets that takes a list of dictionaries as input. The function iterates over the dictionaries in the list and extracts the budget value from each dictionary using the key \"budget\". It then adds up all the budget values using the sum() function and returns the total budget.\n",
    "\n",
    "Here's the implementation:\n",
    "def get_budgets(lst):\n",
    "    return sum(d['budget'] for d in lst)\n",
    "Let's test the function with the provided examples:\n",
    "budgets1 = [\n",
    "    {\"name\": \"John\", \"age\": 21, \"budget\": 23000},\n",
    "    {\"name\": \"Steve\", \"age\": 32, \"budget\": 40000},\n",
    "    {\"name\": \"Martin\", \"age\": 16, \"budget\": 2700}\n",
    "]\n",
    "print(get_budgets(budgets1))\n",
    "# Output: 65700\n",
    "\n",
    "budgets2 = [\n",
    "    {\"name\": \"John\", \"age\": 21, \"budget\": 29000},\n",
    "    {\"name\": \"Steve\", \"age\": 32, \"budget\": 32000},\n",
    "    {\"name\": \"Martin\", \"age\": 16, \"budget\": 1600}\n",
    "]\n",
    "print(get_budgets(budgets2))\n",
    "# Output: 62600\n"
   ]
  },
  {
   "cell_type": "markdown",
   "id": "4a739655",
   "metadata": {},
   "source": [
    "# Q3 Create a function that takes a string and returns a string with its letters in alphabetical order.\n",
    "# Examples\n",
    "# alphabet_soup(&quot;hello&quot;) ➞ &quot;ehllo&quot;\n",
    "# alphabet_soup(&quot;edabit&quot;) ➞ &quot;abdeit&quot;\n",
    "# alphabet_soup(&quot;hacker&quot;) ➞ &quot;acehkr&quot;\n",
    "# alphabet_soup(&quot;geek&quot;) ➞ &quot;eegk&quot;\n",
    "# alphabet_soup(&quot;javascript&quot;) ➞ &quot;aacijprstv&quot;"
   ]
  },
  {
   "cell_type": "code",
   "execution_count": null,
   "id": "580cf5b3",
   "metadata": {},
   "outputs": [],
   "source": [
    "To create a function that takes a string and returns a string with its letters in alphabetical order, you can use the sorted() function to sort the characters of the input string. The sorted() function returns a list of sorted characters, which you can join back into a string using the join() method.\n",
    "\n",
    "Here's the implementation of the alphabet_soup function:\n",
    "def alphabet_soup(string):\n",
    "    sorted_string = ''.join(sorted(string))\n",
    "    return sorted_string\n",
    "Let's test the function with the provided examples:\n",
    "\n",
    "print(alphabet_soup(\"hello\"))\n",
    "# Output: \"ehllo\"\n",
    "\n",
    "print(alphabet_soup(\"edabit\"))\n",
    "# Output: \"abdeit\"\n",
    "\n",
    "print(alphabet_soup(\"hacker\"))\n",
    "# Output: \"acehkr\"\n",
    "\n",
    "print(alphabet_soup(\"geek\"))\n",
    "# Output: \"eegk\"\n",
    "\n",
    "print(alphabet_soup(\"javascript\"))\n",
    "# Output: \"aacijprstv\"\n"
   ]
  },
  {
   "cell_type": "markdown",
   "id": "f4fef201",
   "metadata": {},
   "source": [
    "# Q4 Suppose that you invest $10,000 for 10 years at an interest rate of 6% compounded monthly.\n",
    "# What will be the value of your investment at the end of the 10 year period?\n",
    "# Create a function that accepts the principal p, the term in years t, the interest rate r, and the\n",
    "# number of compounding periods per year n. The function returns the value at the end of term\n",
    "# rounded to the nearest cent.\n",
    "# For the example above:\n",
    "# compound_interest(10000, 10, 0.06, 12) ➞ 18193.97\n",
    "# Note that the interest rate is given as a decimal and n=12 because with monthly compounding\n",
    "# there are 12 periods per year. Compounding can also be done annually, quarterly, weekly, or daily.\n",
    "# Examples\n",
    "# compound_interest(100, 1, 0.05, 1) ➞ 105.0\n",
    "# compound_interest(3500, 15, 0.1, 4) ➞ 15399.26\n",
    "# compound_interest(100000, 20, 0.15, 365) ➞ 2007316.26"
   ]
  },
  {
   "cell_type": "code",
   "execution_count": null,
   "id": "5ae4e516",
   "metadata": {},
   "outputs": [],
   "source": [
    "To calculate the compound interest, you can use the formula A = P * (1 + r/n)^(n*t), where A is the final amount, P is the principal amount, r is the interest rate, n is the number of compounding periods per year, and t is the number of years.\n",
    "\n",
    "You can create a function called compound_interest that accepts the principal amount p, the term in years t, the interest rate r, and the number of compounding periods per year n. The function calculates the final amount using the formula, rounds it to the nearest cent using the round() function, and returns the rounded value.\n",
    "\n",
    "Here's the implementation:\n",
    "def compound_interest(p, t, r, n):\n",
    "    A = p * (1 + r/n)**(n*t)\n",
    "    return round(A, 2)\n",
    "Let's test the function with the provided example:\n",
    "print(compound_interest(10000, 10, 0.06, 12))\n",
    "# Output: 18193.97"
   ]
  },
  {
   "cell_type": "markdown",
   "id": "7e7f35ee",
   "metadata": {},
   "source": [
    "# Q5 Write a function that takes a list of elements and returns only the integers.\n",
    "# Examples\n",
    "# return_only_integer([9, 2, &quot;space&quot;, &quot;car&quot;, &quot;lion&quot;, 16]) ➞ [9, 2, 16]\n",
    "# return_only_integer([&quot;hello&quot;, 81, &quot;basketball&quot;, 123, &quot;fox&quot;]) ➞ [81, 123]\n",
    "# return_only_integer([10, &quot;121&quot;, 56, 20, &quot;car&quot;, 3, &quot;lion&quot;]) ➞ [10, 56, 20, 3]\n",
    "# return_only_integer([&quot;String&quot;, True, 3.3, 1]) ➞ [1]"
   ]
  },
  {
   "cell_type": "code",
   "execution_count": null,
   "id": "a21d9921",
   "metadata": {},
   "outputs": [],
   "source": [
    "To create a function that takes a list of elements and returns only the integers, you can use list comprehension to iterate over the elements of the input list and filter out the integers using the isinstance() function.\n",
    "\n",
    "Here's the implementation of the return_only_integer function:\n",
    "def return_only_integer(lst):\n",
    "    return [x for x in lst if isinstance(x, int)]\n",
    "\n",
    "Let's test the function with the provided examples:\n",
    "print(return_only_integer([9, 2, \"space\", \"car\", \"lion\", 16]))\n",
    "# Output: [9, 2, 16]\n",
    "\n",
    "print(return_only_integer([\"hello\", 81, \"basketball\", 123, \"fox\"]))\n",
    "# Output: [81, 123]\n",
    "\n",
    "print(return_only_integer([10, \"121\", 56, 20, \"car\", 3, \"lion\"]))\n",
    "# Output: [10, 56, 20, 3]\n",
    "\n",
    "print(return_only_integer([\"String\", True, 3.3, 1]))\n",
    "# Output: [1]\n"
   ]
  }
 ],
 "metadata": {
  "kernelspec": {
   "display_name": "Python 3 (ipykernel)",
   "language": "python",
   "name": "python3"
  },
  "language_info": {
   "codemirror_mode": {
    "name": "ipython",
    "version": 3
   },
   "file_extension": ".py",
   "mimetype": "text/x-python",
   "name": "python",
   "nbconvert_exporter": "python",
   "pygments_lexer": "ipython3",
   "version": "3.9.12"
  }
 },
 "nbformat": 4,
 "nbformat_minor": 5
}
